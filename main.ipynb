{
 "cells": [
  {
   "cell_type": "markdown",
   "metadata": {},
   "source": [
    "## Imports"
   ]
  },
  {
   "cell_type": "code",
   "execution_count": 1,
   "metadata": {},
   "outputs": [],
   "source": [
    "import pandas as pd\n",
    "import numpy as np\n",
    "import matplotlib.pyplot as plt"
   ]
  },
  {
   "cell_type": "markdown",
   "metadata": {},
   "source": [
    "## File reading"
   ]
  },
  {
   "cell_type": "code",
   "execution_count": 2,
   "metadata": {},
   "outputs": [],
   "source": [
    "data_files = []"
   ]
  },
  {
   "cell_type": "code",
   "execution_count": 3,
   "metadata": {},
   "outputs": [
    {
     "name": "stdout",
     "output_type": "stream",
     "text": [
      "We have total 7 files for data analysis of hospital beds in UAE states\n"
     ]
    }
   ],
   "source": [
    "data_files.clear()\n",
    "for i in range(2,9):\n",
    "    data_files.append(pd.read_csv(f'./dataset/hb200{i}.csv'))\n",
    "print(f'We have total {len(data_files)} files for data analysis of hospital beds in UAE states')"
   ]
  },
  {
   "cell_type": "markdown",
   "metadata": {},
   "source": [
    "## Information about dataset"
   ]
  },
  {
   "cell_type": "code",
   "execution_count": 4,
   "metadata": {},
   "outputs": [
    {
     "name": "stdout",
     "output_type": "stream",
     "text": [
      "The dataset contain 5713 Rows and 8 Columns\n"
     ]
    }
   ],
   "source": [
    "total_rows, total_cols = 0, 0\n",
    "for fi in data_files:\n",
    "    total_rows += fi.shape[0]\n",
    "    \n",
    "print(f'The dataset contain {total_rows} Rows and {data_files[0].shape[1]} Columns')"
   ]
  },
  {
   "cell_type": "code",
   "execution_count": 5,
   "metadata": {},
   "outputs": [
    {
     "name": "stdout",
     "output_type": "stream",
     "text": [
      "The following columns are for the anaysis of data:\n",
      "Year\n",
      "Region_AR\n",
      "Region_EN\n",
      "Hospital_AR\n",
      "Hospital_EN\n",
      "Speciality_AR\n",
      "Speciality_EN\n",
      "Beds\n"
     ]
    }
   ],
   "source": [
    "print('The following columns are for the anaysis of data:')\n",
    "for c_name in list(data_files[0].columns):\n",
    "    print(c_name)"
   ]
  },
  {
   "cell_type": "markdown",
   "metadata": {},
   "source": [
    "## Preprocessing"
   ]
  },
  {
   "cell_type": "code",
   "execution_count": 6,
   "metadata": {},
   "outputs": [],
   "source": [
    "# remove additional columns and keep only cols of interest\n",
    "useful_col_names = ['Year', 'Region_EN', 'Hospital_EN', 'Speciality_EN', 'Beds']"
   ]
  },
  {
   "cell_type": "code",
   "execution_count": 7,
   "metadata": {},
   "outputs": [],
   "source": [
    "df_usefuls = []\n",
    "for dfi in data_files:\n",
    "    df_usefuls.append(dfi[useful_col_names])"
   ]
  },
  {
   "cell_type": "code",
   "execution_count": 8,
   "metadata": {},
   "outputs": [
    {
     "name": "stderr",
     "output_type": "stream",
     "text": [
      "/home/sibti/anaconda3/envs/a1_env/lib/python3.7/site-packages/ipykernel_launcher.py:1: SettingWithCopyWarning: \n",
      "A value is trying to be set on a copy of a slice from a DataFrame.\n",
      "Try using .loc[row_indexer,col_indexer] = value instead\n",
      "\n",
      "See the caveats in the documentation: https://pandas.pydata.org/pandas-docs/stable/user_guide/indexing.html#returning-a-view-versus-a-copy\n",
      "  \"\"\"Entry point for launching an IPython kernel.\n"
     ]
    }
   ],
   "source": [
    "df_usefuls[2]['Year'] = df_usefuls[2]['Year'] + 1"
   ]
  },
  {
   "cell_type": "code",
   "execution_count": 9,
   "metadata": {},
   "outputs": [],
   "source": [
    "# combine all dataframes\n",
    "df = pd.concat(df_usefuls)"
   ]
  },
  {
   "cell_type": "code",
   "execution_count": 10,
   "metadata": {},
   "outputs": [],
   "source": [
    "# change year column to date format values\n",
    "df['Year'] =  pd.to_datetime(df['Year'], format='%Y')"
   ]
  },
  {
   "cell_type": "code",
   "execution_count": 11,
   "metadata": {},
   "outputs": [
    {
     "data": {
      "text/plain": [
       "(5682, 5)"
      ]
     },
     "execution_count": 11,
     "metadata": {},
     "output_type": "execute_result"
    }
   ],
   "source": [
    "# remove null values\n",
    "df = df.dropna()\n",
    "df = df.reset_index(drop=True)\n",
    "df.shape"
   ]
  },
  {
   "cell_type": "code",
   "execution_count": 12,
   "metadata": {},
   "outputs": [],
   "source": [
    "# convert beds to integers after removing commas from string\n",
    "df['Beds'] = df['Beds'].replace(',','', regex=True)\n",
    "df['Beds'] = pd.to_numeric(df['Beds'], downcast='float')"
   ]
  },
  {
   "cell_type": "code",
   "execution_count": 13,
   "metadata": {},
   "outputs": [
    {
     "data": {
      "text/plain": [
       "(4060, 5)"
      ]
     },
     "execution_count": 13,
     "metadata": {},
     "output_type": "execute_result"
    }
   ],
   "source": [
    "# remove all columns containg total word, so they are not able to cause problem in our analysis\n",
    "df = df[df.Region_EN != 'Total']\n",
    "df = df[df.Hospital_EN != 'Total']\n",
    "df = df[df.Speciality_EN != 'Total']\n",
    "df.shape"
   ]
  },
  {
   "cell_type": "markdown",
   "metadata": {},
   "source": [
    "After all of this preprocessing we have now **4060** rows and **5** columns to perform our analysis"
   ]
  },
  {
   "cell_type": "markdown",
   "metadata": {},
   "source": [
    "## Data Analysis"
   ]
  },
  {
   "cell_type": "code",
   "execution_count": 167,
   "metadata": {},
   "outputs": [
    {
     "data": {
      "text/html": [
       "<div>\n",
       "<style scoped>\n",
       "    .dataframe tbody tr th:only-of-type {\n",
       "        vertical-align: middle;\n",
       "    }\n",
       "\n",
       "    .dataframe tbody tr th {\n",
       "        vertical-align: top;\n",
       "    }\n",
       "\n",
       "    .dataframe thead th {\n",
       "        text-align: right;\n",
       "    }\n",
       "</style>\n",
       "<table border=\"1\" class=\"dataframe\">\n",
       "  <thead>\n",
       "    <tr style=\"text-align: right;\">\n",
       "      <th></th>\n",
       "      <th>Year</th>\n",
       "      <th>Region_EN</th>\n",
       "      <th>Hospital_EN</th>\n",
       "      <th>Speciality_EN</th>\n",
       "      <th>Beds</th>\n",
       "    </tr>\n",
       "  </thead>\n",
       "  <tbody>\n",
       "    <tr>\n",
       "      <th>0</th>\n",
       "      <td>2002-01-01</td>\n",
       "      <td>Abu Dhabi</td>\n",
       "      <td>Marfraq</td>\n",
       "      <td>Internal Medicine</td>\n",
       "      <td>30.0</td>\n",
       "    </tr>\n",
       "    <tr>\n",
       "      <th>1</th>\n",
       "      <td>2002-01-01</td>\n",
       "      <td>Abu Dhabi</td>\n",
       "      <td>Marfraq</td>\n",
       "      <td>Pulmonology</td>\n",
       "      <td>0.0</td>\n",
       "    </tr>\n",
       "    <tr>\n",
       "      <th>2</th>\n",
       "      <td>2002-01-01</td>\n",
       "      <td>Abu Dhabi</td>\n",
       "      <td>Marfraq</td>\n",
       "      <td>Cardiology</td>\n",
       "      <td>27.0</td>\n",
       "    </tr>\n",
       "    <tr>\n",
       "      <th>3</th>\n",
       "      <td>2002-01-01</td>\n",
       "      <td>Abu Dhabi</td>\n",
       "      <td>Marfraq</td>\n",
       "      <td>Neurology</td>\n",
       "      <td>7.0</td>\n",
       "    </tr>\n",
       "    <tr>\n",
       "      <th>4</th>\n",
       "      <td>2002-01-01</td>\n",
       "      <td>Abu Dhabi</td>\n",
       "      <td>Marfraq</td>\n",
       "      <td>Psychiatry</td>\n",
       "      <td>0.0</td>\n",
       "    </tr>\n",
       "  </tbody>\n",
       "</table>\n",
       "</div>"
      ],
      "text/plain": [
       "        Year  Region_EN Hospital_EN      Speciality_EN  Beds\n",
       "0 2002-01-01  Abu Dhabi     Marfraq  Internal Medicine  30.0\n",
       "1 2002-01-01  Abu Dhabi     Marfraq        Pulmonology   0.0\n",
       "2 2002-01-01  Abu Dhabi     Marfraq         Cardiology  27.0\n",
       "3 2002-01-01  Abu Dhabi     Marfraq          Neurology   7.0\n",
       "4 2002-01-01  Abu Dhabi     Marfraq         Psychiatry   0.0"
      ]
     },
     "execution_count": 167,
     "metadata": {},
     "output_type": "execute_result"
    }
   ],
   "source": [
    "df.head()"
   ]
  },
  {
   "cell_type": "code",
   "execution_count": 15,
   "metadata": {},
   "outputs": [
    {
     "name": "stdout",
     "output_type": "stream",
     "text": [
      "Total unique regions 9\n",
      "Total unique hospitals 40\n",
      "Total unique specialities 34\n"
     ]
    }
   ],
   "source": [
    "unique_regions, unique_hospitals, unique_specs = df.Region_EN.unique(), df.Hospital_EN.unique(), df.Speciality_EN.unique()\n",
    "print(f'Total unique regions {len(unique_regions)}')\n",
    "print(f'Total unique hospitals {len(unique_hospitals)}')\n",
    "print(f'Total unique specialities {len(unique_specs)}')"
   ]
  },
  {
   "cell_type": "markdown",
   "metadata": {},
   "source": [
    "### Question 1. Which hospital has most beds & in which year?"
   ]
  },
  {
   "cell_type": "code",
   "execution_count": 16,
   "metadata": {},
   "outputs": [
    {
     "name": "stdout",
     "output_type": "stream",
     "text": [
      "Central Hospital in Abu Dhabi has most beds, which are almost 165.0 for the Speciality of General Medicine.\n"
     ]
    }
   ],
   "source": [
    "# sort values to see the details of data items having most beds\n",
    "most_beds_dataitem = df.sort_values(by ='Beds', ascending=False).iloc[0]\n",
    "print(f'{most_beds_dataitem.Hospital_EN} Hospital in {most_beds_dataitem.Region_EN} has most beds, which are almost {most_beds_dataitem.Beds}'\n",
    "f' for the Speciality of {most_beds_dataitem.Speciality_EN}.')"
   ]
  },
  {
   "cell_type": "markdown",
   "metadata": {},
   "source": [
    "Ans No.1. **Central Hospital** in **Abu Dhabi** has most beds, which are almost **165.0** for the Speciality of **General Medicine**.\n",
    "\n",
    "<hr>"
   ]
  },
  {
   "cell_type": "markdown",
   "metadata": {},
   "source": [
    "### Question 2. Show trends in number of beds for general medicine per year using line chart?"
   ]
  },
  {
   "cell_type": "code",
   "execution_count": 17,
   "metadata": {},
   "outputs": [],
   "source": [
    "# Number of beds for general medicine per year\n",
    "gm_beds = df[df.Speciality_EN == 'General Medicine'].groupby('Year').sum()"
   ]
  },
  {
   "cell_type": "code",
   "execution_count": 18,
   "metadata": {},
   "outputs": [
    {
     "data": {
      "image/png": "[encoded data removed]",
      "text/plain": [
       "<Figure size 720x432 with 1 Axes>"
      ]
     },
     "metadata": {
      "needs_background": "light"
     },
     "output_type": "display_data"
    }
   ],
   "source": [
    "fig = plt.figure(figsize=(10, 6))\n",
    "ax = fig.add_subplot(111)\n",
    "plt.title('Number of Beds for General Medicine per Year')\n",
    "plt.ylim(0, 400)\n",
    "plt.plot(gm_beds.index, gm_beds.values,\n",
    "         '-ok', color='lightblue',\n",
    "         markersize=8, linewidth=2,\n",
    "         markerfacecolor='blue',)\n",
    "plt.xlabel('Years')\n",
    "plt.ylabel('Number of Beds')\n",
    "for i,j in zip(gm_beds.index, gm_beds.values):\n",
    "    ax.annotate(str(int(j)),xy=(i,j), xytext=(2,5), textcoords='offset points')\n",
    "plt.show()"
   ]
  },
  {
   "cell_type": "markdown",
   "metadata": {},
   "source": [
    "Ans No.2. Trend in **Beds Quantity for General Medicine** is given in above **Line Plot**.\n",
    "\n",
    "<hr>"
   ]
  },
  {
   "cell_type": "markdown",
   "metadata": {},
   "source": [
    "### Question 3. What is the average number of beds per year and its spread?"
   ]
  },
  {
   "cell_type": "code",
   "execution_count": 19,
   "metadata": {},
   "outputs": [
    {
     "data": {
      "text/plain": [
       "(3227.8572, 918.4133)"
      ]
     },
     "execution_count": 19,
     "metadata": {},
     "output_type": "execute_result"
    }
   ],
   "source": [
    "beds_per_year = df.groupby('Year').sum().values\n",
    "beds_mean = np.mean(beds_per_year)\n",
    "beds_std = np.std(beds_per_year)\n",
    "beds_mean, beds_std"
   ]
  },
  {
   "cell_type": "markdown",
   "metadata": {},
   "source": [
    "Ans No.3. The average beds in hospitals of UAE are calculated as **3229** with a spread of ± **918** beds\n",
    "\n",
    "<hr>"
   ]
  },
  {
   "cell_type": "markdown",
   "metadata": {},
   "source": [
    "### Question 4. Show the distribution of beds among regions in 2005 using pie chart?"
   ]
  },
  {
   "cell_type": "code",
   "execution_count": 20,
   "metadata": {},
   "outputs": [
    {
     "data": {
      "image/png": "[encoded data removed]",
      "text/plain": [
       "<Figure size 720x720 with 1 Axes>"
      ]
     },
     "metadata": {},
     "output_type": "display_data"
    }
   ],
   "source": [
    "df_rb_y5 = df[df.Year == '2005']\n",
    "df_rb_y5 = df_rb_y5.groupby('Region_EN')\n",
    "df_rb_y5 = df_rb_y5.sum()\n",
    "df_rb_y5.plot.pie(y='Beds',\n",
    "                  figsize=(10, 10),\n",
    "                  title='Distribution of Beds per Region in 2005',\n",
    "                  autopct='%1.1f%%',\n",
    "                 shadow=True,\n",
    "                 fontsize=12,)\n",
    "                 #explode=(0.2, 0, 0.1, 0, 0, 0.1, 0, 0, 0))\n",
    "plt.show()"
   ]
  },
  {
   "cell_type": "markdown",
   "metadata": {},
   "source": [
    "Ans No.4. Distribution of **Beds Quantity** by **Regions** is given in above **Pie Chart**.\n",
    "\n",
    "<hr>"
   ]
  },
  {
   "cell_type": "markdown",
   "metadata": {},
   "source": [
    "### Question 5. Number of Specialities with respect to Regions of UAE using Bar plot?"
   ]
  },
  {
   "cell_type": "code",
   "execution_count": 21,
   "metadata": {},
   "outputs": [],
   "source": [
    "df_reg_specs = df.groupby(['Region_EN'])\n",
    "df_reg_specs = df_reg_specs['Speciality_EN']\n",
    "df_reg_specs = df_reg_specs.unique()\n",
    "df_reg_specs = df_reg_specs.apply(lambda x: len(x))"
   ]
  },
  {
   "cell_type": "code",
   "execution_count": 22,
   "metadata": {},
   "outputs": [
    {
     "data": {
      "image/png": "[encoded data removed]",
      "text/plain": [
       "<Figure size 720x360 with 1 Axes>"
      ]
     },
     "metadata": {
      "needs_background": "light"
     },
     "output_type": "display_data"
    }
   ],
   "source": [
    "# xik = pd.DataFrame(xik)\n",
    "df_reg_specs.plot(kind='bar',\n",
    "        figsize=(10, 5),\n",
    "        xlabel='Regions',\n",
    "        ylabel='Number of Specialities',\n",
    "        title='Number of Specialities in UAE Regions',\n",
    "        color=['brown', 'black', 'gray', 'orange', 'lightblue', 'green', 'pink', 'purple', 'skyblue'])\n",
    "plt.show()"
   ]
  },
  {
   "cell_type": "markdown",
   "metadata": {},
   "source": [
    "Ans No.5. **Number of Specialities** in **Regions** of UAE using **Bar Plot**.\n",
    "\n",
    "<hr>"
   ]
  },
  {
   "cell_type": "markdown",
   "metadata": {},
   "source": [
    "### Question 6. What is the highest change for Beds against Region in 2002-2008?"
   ]
  },
  {
   "cell_type": "code",
   "execution_count": 160,
   "metadata": {},
   "outputs": [],
   "source": [
    "df_reg_bed_c = df.groupby(['Year', 'Region_EN'])\n",
    "df_reg_bed_c = df_reg_bed_c.sum()"
   ]
  },
  {
   "cell_type": "code",
   "execution_count": 161,
   "metadata": {},
   "outputs": [],
   "source": [
    "def create_joined_df(df, years=['2','3','4','5','6','7','8']):\n",
    "    dframes = list()\n",
    "    year_idx = df_reg_bed_c.index.get_level_values(0)\n",
    "    for y in years:\n",
    "        cond = (l0 == f\"200{y}\")\n",
    "        di = df_reg_bed_c[cond]\n",
    "        di.columns = [f'Beds_200{y}']\n",
    "        di.index = di.index.get_level_values(1)\n",
    "        di = di.reset_index()\n",
    "        dframes.append(di)\n",
    "    new_df = dframes[0]\n",
    "    for dfi in dframes[1:]:\n",
    "        new_df = pd.merge(new_df, dfi, on='Region_EN', how='outer')\n",
    "    return new_df"
   ]
  },
  {
   "cell_type": "code",
   "execution_count": 162,
   "metadata": {},
   "outputs": [
    {
     "data": {
      "text/html": [
       "<div>\n",
       "<style scoped>\n",
       "    .dataframe tbody tr th:only-of-type {\n",
       "        vertical-align: middle;\n",
       "    }\n",
       "\n",
       "    .dataframe tbody tr th {\n",
       "        vertical-align: top;\n",
       "    }\n",
       "\n",
       "    .dataframe thead th {\n",
       "        text-align: right;\n",
       "    }\n",
       "</style>\n",
       "<table border=\"1\" class=\"dataframe\">\n",
       "  <thead>\n",
       "    <tr style=\"text-align: right;\">\n",
       "      <th>Region_EN</th>\n",
       "      <th>Abu Dhabi</th>\n",
       "      <th>Ajman</th>\n",
       "      <th>Al Ain</th>\n",
       "      <th>Dubai</th>\n",
       "      <th>Fujairah</th>\n",
       "      <th>R.A.K.</th>\n",
       "      <th>Sharjah</th>\n",
       "      <th>Western Region</th>\n",
       "      <th>U.A.Q.</th>\n",
       "    </tr>\n",
       "  </thead>\n",
       "  <tbody>\n",
       "    <tr>\n",
       "      <th>Beds_2002</th>\n",
       "      <td>1192.0</td>\n",
       "      <td>194.0</td>\n",
       "      <td>484.0</td>\n",
       "      <td>259.0</td>\n",
       "      <td>294.0</td>\n",
       "      <td>433.0</td>\n",
       "      <td>765.0</td>\n",
       "      <td>316.0</td>\n",
       "      <td>NaN</td>\n",
       "    </tr>\n",
       "    <tr>\n",
       "      <th>Beds_2003</th>\n",
       "      <td>1191.0</td>\n",
       "      <td>194.0</td>\n",
       "      <td>484.0</td>\n",
       "      <td>259.0</td>\n",
       "      <td>294.0</td>\n",
       "      <td>436.0</td>\n",
       "      <td>763.0</td>\n",
       "      <td>328.0</td>\n",
       "      <td>NaN</td>\n",
       "    </tr>\n",
       "    <tr>\n",
       "      <th>Beds_2004</th>\n",
       "      <td>1168.0</td>\n",
       "      <td>194.0</td>\n",
       "      <td>484.0</td>\n",
       "      <td>259.0</td>\n",
       "      <td>294.0</td>\n",
       "      <td>438.0</td>\n",
       "      <td>743.0</td>\n",
       "      <td>328.0</td>\n",
       "      <td>NaN</td>\n",
       "    </tr>\n",
       "    <tr>\n",
       "      <th>Beds_2005</th>\n",
       "      <td>1029.0</td>\n",
       "      <td>183.0</td>\n",
       "      <td>832.0</td>\n",
       "      <td>259.0</td>\n",
       "      <td>294.0</td>\n",
       "      <td>452.0</td>\n",
       "      <td>729.0</td>\n",
       "      <td>328.0</td>\n",
       "      <td>167.0</td>\n",
       "    </tr>\n",
       "    <tr>\n",
       "      <th>Beds_2006</th>\n",
       "      <td>NaN</td>\n",
       "      <td>167.0</td>\n",
       "      <td>NaN</td>\n",
       "      <td>259.0</td>\n",
       "      <td>386.0</td>\n",
       "      <td>698.0</td>\n",
       "      <td>735.0</td>\n",
       "      <td>NaN</td>\n",
       "      <td>NaN</td>\n",
       "    </tr>\n",
       "    <tr>\n",
       "      <th>Beds_2007</th>\n",
       "      <td>NaN</td>\n",
       "      <td>183.0</td>\n",
       "      <td>NaN</td>\n",
       "      <td>258.0</td>\n",
       "      <td>315.0</td>\n",
       "      <td>480.0</td>\n",
       "      <td>731.0</td>\n",
       "      <td>NaN</td>\n",
       "      <td>165.0</td>\n",
       "    </tr>\n",
       "    <tr>\n",
       "      <th>Beds_2008</th>\n",
       "      <td>NaN</td>\n",
       "      <td>109.0</td>\n",
       "      <td>NaN</td>\n",
       "      <td>254.0</td>\n",
       "      <td>393.0</td>\n",
       "      <td>432.0</td>\n",
       "      <td>737.0</td>\n",
       "      <td>NaN</td>\n",
       "      <td>226.0</td>\n",
       "    </tr>\n",
       "  </tbody>\n",
       "</table>\n",
       "</div>"
      ],
      "text/plain": [
       "Region_EN  Abu Dhabi  Ajman  Al Ain  Dubai  Fujairah  R.A.K.  Sharjah  \\\n",
       "Beds_2002     1192.0  194.0   484.0  259.0     294.0   433.0    765.0   \n",
       "Beds_2003     1191.0  194.0   484.0  259.0     294.0   436.0    763.0   \n",
       "Beds_2004     1168.0  194.0   484.0  259.0     294.0   438.0    743.0   \n",
       "Beds_2005     1029.0  183.0   832.0  259.0     294.0   452.0    729.0   \n",
       "Beds_2006        NaN  167.0     NaN  259.0     386.0   698.0    735.0   \n",
       "Beds_2007        NaN  183.0     NaN  258.0     315.0   480.0    731.0   \n",
       "Beds_2008        NaN  109.0     NaN  254.0     393.0   432.0    737.0   \n",
       "\n",
       "Region_EN  Western Region  U.A.Q.  \n",
       "Beds_2002           316.0     NaN  \n",
       "Beds_2003           328.0     NaN  \n",
       "Beds_2004           328.0     NaN  \n",
       "Beds_2005           328.0   167.0  \n",
       "Beds_2006             NaN     NaN  \n",
       "Beds_2007             NaN   165.0  \n",
       "Beds_2008             NaN   226.0  "
      ]
     },
     "execution_count": 162,
     "metadata": {},
     "output_type": "execute_result"
    }
   ],
   "source": [
    "df_reg_bed_c = create_joined_df(df_reg_bed_c)\n",
    "df_reg_bed_c = df_reg_bed_c.set_index('Region_EN').T\n",
    "df_reg_bed_c"
   ]
  },
  {
   "cell_type": "code",
   "execution_count": 164,
   "metadata": {},
   "outputs": [],
   "source": [
    "abudhabi_std = df_reg_bed_c['Abu Dhabi'].std()\n",
    "ajmnn_std = df_reg_bed_c['Ajman'].std()\n",
    "alain_std = df_reg_bed_c['Al Ain'].std()\n",
    "dubai_std = df_reg_bed_c['Dubai'].std()\n",
    "fujairah_std = df_reg_bed_c['Fujairah'].std()\n",
    "rak_std = df_reg_bed_c['R.A.K.'].std()\n",
    "sharjah_std = df_reg_bed_c['Sharjah'].std()\n",
    "westernr_std = df_reg_bed_c['Western Region'].std()\n",
    "uaq_std = df_reg_bed_c['U.A.Q.'].std()"
   ]
  },
  {
   "cell_type": "markdown",
   "metadata": {},
   "source": [
    "Ans No.6. The change of beds in 7 years (2002-2008) per region (ignoring the missing values) is following: \n",
    "* **Abu Dhabi** is **78**\n",
    "* **Ajman** is **31**\n",
    "* **Al Ain** is **174**\n",
    "* **Dubai** is **2**\n",
    "* **Fujairah** is **25**\n",
    "* **R.A.K** is **97**\n",
    "* **Sharjah** is **15**\n",
    "* **Western Region** is **6**\n",
    "* **U.A.Q** is **35**\n",
    "\n",
    "<hr>"
   ]
  },
  {
   "cell_type": "markdown",
   "metadata": {},
   "source": [
    "### Question No.7 What is the number of hospitals in each region of U.A.E for 2002-2008?"
   ]
  },
  {
   "cell_type": "code",
   "execution_count": 196,
   "metadata": {},
   "outputs": [],
   "source": [
    "df_reg_hospital = df.groupby(['Region_EN'])\n",
    "df_reg_hospital = df_reg_hospital['Hospital_EN']\n",
    "df_reg_hospital = df_reg_hospital.unique()\n",
    "df_reg_hospital = df_reg_hospital.apply(lambda x: len(x))\n",
    "# df_reg_hospital"
   ]
  },
  {
   "cell_type": "markdown",
   "metadata": {},
   "source": [
    "Ans No.7. The number of hospitals till 2008 per region of UAE are following: \n",
    "* **Abu Dhabi** is **7**\n",
    "* **Ajman** is **2**\n",
    "* **Al Ain** is **4**\n",
    "* **Dubai** is **4**\n",
    "* **Fujairah** is **2**\n",
    "* **R.A.K** is **7**\n",
    "* **Sharjah** is **8**\n",
    "* **Western Region** is **1**\n",
    "* **U.A.Q** is **5**\n",
    "\n",
    "<hr>"
   ]
  },
  {
   "cell_type": "code",
   "execution_count": null,
   "metadata": {},
   "outputs": [],
   "source": []
  }
 ],
 "metadata": {
  "kernelspec": {
   "display_name": "Python 3",
   "language": "python",
   "name": "python3"
  },
  "language_info": {
   "codemirror_mode": {
    "name": "ipython",
    "version": 3
   },
   "file_extension": ".py",
   "mimetype": "text/x-python",
   "name": "python",
   "nbconvert_exporter": "python",
   "pygments_lexer": "ipython3",
   "version": "3.7.9"
  }
 },
 "nbformat": 4,
 "nbformat_minor": 4
}
